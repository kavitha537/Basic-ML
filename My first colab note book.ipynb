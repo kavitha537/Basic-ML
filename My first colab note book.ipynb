{
  "nbformat": 4,
  "nbformat_minor": 0,
  "metadata": {
    "colab": {
      "name": "Untitled0.ipynb",
      "provenance": [],
      "authorship_tag": "ABX9TyMAM3E/OW7QWGyDRNhyyZmn",
      "include_colab_link": true
    },
    "kernelspec": {
      "name": "python3",
      "display_name": "Python 3"
    },
    "language_info": {
      "name": "python"
    }
  },
  "cells": [
    {
      "cell_type": "markdown",
      "metadata": {
        "id": "view-in-github",
        "colab_type": "text"
      },
      "source": [
        "<a href=\"https://colab.research.google.com/github/kavitha537/Basic-ML/blob/main/My%20first%20colab%20note%20book.ipynb\" target=\"_parent\"><img src=\"https://colab.research.google.com/assets/colab-badge.svg\" alt=\"Open In Colab\"/></a>"
      ]
    },
    {
      "cell_type": "markdown",
      "metadata": {
        "id": "8RdH6ONPreJ3"
      },
      "source": [
        "SUM OF FIRST N NATURAL NUMBERS"
      ]
    },
    {
      "cell_type": "code",
      "metadata": {
        "colab": {
          "base_uri": "https://localhost:8080/"
        },
        "id": "qFYQpCaYst_h",
        "outputId": "1f5b3f7e-ba54-43e9-a434-33d643a1bb99"
      },
      "source": [
        "n=int(input()) \n",
        "sum=0\n",
        "for i in range(1,n+1):\n",
        " sum=sum+i\n",
        " i=i+1\n",
        "print(sum)"
      ],
      "execution_count": 4,
      "outputs": [
        {
          "output_type": "stream",
          "text": [
            "6\n",
            "21\n"
          ],
          "name": "stdout"
        }
      ]
    },
    {
      "cell_type": "markdown",
      "metadata": {
        "id": "Cju_Eyg9umy0"
      },
      "source": [
        " \n",
        "EXPLAINATION:\n",
        " \n",
        " \n",
        "1.The above program is used to find the sum of first 'n' natural numbers. \n",
        " \n",
        "2.In this program for loop is used. \n",
        " \n",
        "3.Here n is the input. \n",
        " \n",
        "4.int represnts that input is an integer. \n",
        " \n",
        "5.Here for loop is runned between the range of i from 1 to (n+1). \n",
        " \n",
        "6.Here every value of i is multiplied with sum.And is sorted in sum. \n",
        " \n",
        "7.Here print is used to print the input\n",
        " \n",
        " 8.HereI have given the input as 6.Therefore the sum of first 6 natural numbers is 21.The output is 21."
      ]
    },
    {
      "cell_type": "markdown",
      "metadata": {
        "id": "8jeKDc4Myf7y"
      },
      "source": [
        ""
      ]
    },
    {
      "cell_type": "markdown",
      "metadata": {
        "id": "FaMi0e_Ayg_V"
      },
      "source": [
        ". EVEN OR ODD"
      ]
    },
    {
      "cell_type": "code",
      "metadata": {
        "colab": {
          "base_uri": "https://localhost:8080/"
        },
        "id": "cV4X_rtay1hP",
        "outputId": "893df5b8-2700-473b-b803-a8020527099b"
      },
      "source": [
        "n=int(input())\n",
        "if( n%2 == 0 ):\n",
        "    print(\"even\") \n",
        "else:\n",
        "    print(\"odd\")"
      ],
      "execution_count": 7,
      "outputs": [
        {
          "output_type": "stream",
          "text": [
            "6\n",
            "even\n"
          ],
          "name": "stdout"
        }
      ]
    },
    {
      "cell_type": "markdown",
      "metadata": {
        "id": "fC58VlAQ0rR7"
      },
      "source": [
        "EXPLANATION:\n",
        " \n",
        "1.The above program is to find whether the number is even Or odd. \n",
        " \n",
        "2.Let us consider the input as n. Here int represnts the input as integer. \n",
        " \n",
        "3.The condition for an integer to be an even number is \" It must be divisble by 2\".And the condition for odd number is \" It is not divisble by 2\".\n",
        " \n",
        "4.So i have taken the condition that is if the number is divisible by 2 then the output will be even and if the number is not divisible by 2 then it is odd.\n",
        " \n",
        "5.In this program if-else condition is used.\n",
        " \n",
        "6.print is used to print the output. \n",
        " \n",
        "7.Here I have given the input as 6.since 6 is a even number. So the output is even."
      ]
    },
    {
      "cell_type": "markdown",
      "metadata": {
        "id": "a9jYm_9X3aXl"
      },
      "source": [
        ""
      ]
    },
    {
      "cell_type": "markdown",
      "metadata": {
        "id": "JgslYGqe3bH5"
      },
      "source": [
        "FACTORIAL OF A GIVEN NUMBER"
      ]
    },
    {
      "cell_type": "code",
      "metadata": {
        "colab": {
          "base_uri": "https://localhost:8080/"
        },
        "id": "apvDVi133uwB",
        "outputId": "20381d5d-01a0-4bd7-d7dc-832b04d7c777"
      },
      "source": [
        "n=int(input())\n",
        "factorial=1\n",
        "for i in range(1,n+1):\n",
        " factorial=factorial*i\n",
        "print(factorial)"
      ],
      "execution_count": 8,
      "outputs": [
        {
          "output_type": "stream",
          "text": [
            "6\n",
            "720\n"
          ],
          "name": "stdout"
        }
      ]
    },
    {
      "cell_type": "markdown",
      "metadata": {
        "id": "HXK_XcY34iNH"
      },
      "source": [
        "EXPLANATION:\n",
        " \n",
        "1.The above program is to find the factorial of given number. \n",
        " \n",
        "2.In this program for loop is used. \n",
        " \n",
        "3.Here n is taken as input. Int represesnts input as a integer. \n",
        " \n",
        " \n",
        "4.In this the factorial value is 1.1 is sorted in.\n",
        " \n",
        "5.The range of i is taken from 1 to (n+1).\n",
        " \n",
        "6.Each value of i is multiplied with the factorial which will be sorted in factorial. \n",
        " \n",
        "7.print is used to print the output after the loop is ended. \n",
        " \n",
        "8.Here I have given the input is 6.The factorial of 6 is 720.So the output is 720."
      ]
    },
    {
      "cell_type": "markdown",
      "metadata": {
        "id": "JSVaUy7k6y_w"
      },
      "source": [
        ""
      ]
    }
  ]
}